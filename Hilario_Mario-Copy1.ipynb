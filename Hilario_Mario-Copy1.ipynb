{
 "cells": [
  {
   "cell_type": "code",
   "execution_count": null,
   "id": "12b1d948",
   "metadata": {},
   "outputs": [],
   "source": [
    "%%capture\n",
    "!pip install gym-super-mario-bros==7.3.0\n",
    "!pip install pyvirtualdisplay\n",
    "!pip install stable-baselines3"
   ]
  },
  {
   "cell_type": "code",
   "execution_count": null,
   "id": "1db53eac",
   "metadata": {},
   "outputs": [],
   "source": [
    "import gym\n",
    "import numpy as np\n",
    "import pandas as pd\n",
    "import os\n",
    "import cv2\n",
    "import copy\n",
    "import matplotlib.pyplot as plt\n",
    "import matplotlib.animation\n",
    "from IPython.display import display, HTML\n",
    "from stable_baselines3 import PPO\n",
    "from stable_baselines3.common.callbacks import BaseCallback\n",
    "from gym.wrappers import GrayScaleObservation\n",
    "from stable_baselines3.common.vec_env import VecFrameStack, DummyVecEnv\n",
    "import gym_super_mario_bros\n",
    "from nes_py.wrappers import JoypadSpace\n",
    "from gym_super_mario_bros.actions import SIMPLE_MOVEMENT"
   ]
  },
  {
   "cell_type": "code",
   "execution_count": null,
   "id": "ab96653d",
   "metadata": {},
   "outputs": [],
   "source": [
    "CHECK_FREQ_NUMB = 10000\n",
    "TOTAL_TIMESTEP_NUMB = 2000000\n",
    "LEARNING_RATE = 0.00005\n",
    "N_STEPS = 512\n",
    "GAMMA = 0.9\n",
    "BATCH_SIZE = 64\n",
    "N_EPOCHS = 10\n",
    "DOWN_SAMPLE_RATE = 3\n",
    "SKIP_NUMB = 2\n",
    "EPISODE_NUMBERS = 20"
   ]
  },
  {
   "cell_type": "code",
   "execution_count": null,
   "id": "610470d8",
   "metadata": {},
   "outputs": [],
   "source": [
    "CHECKPOINT_DIR = './train/'\n",
    "LOG_DIR = './logs/'\n",
    "REWARD_LOG_FILENAME = 'reward_log.csv'"
   ]
  },
  {
   "cell_type": "code",
   "execution_count": null,
   "id": "ef83fa76",
   "metadata": {},
   "outputs": [],
   "source": [
    "with open(REWARD_LOG_FILENAME, 'a') as f:\n",
    "    print('timesteps,reward', file=f)"
   ]
  },
  {
   "cell_type": "code",
   "execution_count": null,
   "id": "34af6ecb",
   "metadata": {},
   "outputs": [],
   "source": [
    "class SkipFrame(gym.Wrapper):\n",
    "    def __init__(self, env, skip):\n",
    "        super().__init__(env)\n",
    "        self._skip = skip\n",
    "\n",
    "    def step(self, action):\n",
    "        for i in range(self._skip):\n",
    "            obs, reward, done, info = self.env.step(action)\n",
    "            if done:\n",
    "                break\n",
    "        return obs, reward, done, info\n",
    "\n",
    "\n",
    "class Downsample(gym.ObservationWrapper):\n",
    "    def __init__(self, env, ratio):\n",
    "        \"\"\"\n",
    "        Downsample images by a factor of ratio\n",
    "        \"\"\"\n",
    "        gym.ObservationWrapper.__init__(self, env)\n",
    "        (oldh, oldw, oldc) = env.observation_space.shape\n",
    "        newshape = (oldh//ratio, oldw//ratio, oldc)\n",
    "        self.observation_space = gym.spaces.Box(low=0, high=255,\n",
    "            shape=newshape, dtype=np.uint8)\n",
    "\n",
    "    def observation(self, frame):\n",
    "        height, width, _ = self.observation_space.shape\n",
    "        frame = cv2.resize(frame, (width, height), interpolation=cv2.INTER_AREA)\n",
    "        if frame.ndim == 2:\n",
    "            frame = frame[:,:,None]\n",
    "        return frame"
   ]
  },
  {
   "cell_type": "code",
   "execution_count": null,
   "id": "a514ee43",
   "metadata": {},
   "outputs": [],
   "source": [
    "env = gym_super_mario_bros.make(\"SuperMarioBros-1-1-v0\")\n",
    "env = JoypadSpace(env, [[\"right\", \"B\"], [\"right\", \"A\", \"B\"]])\n",
    "env = SkipFrame(env, skip=SKIP_NUMB)\n",
    "env = GrayScaleObservation(env, keep_dim=True)\n",
    "env = Downsample(env, DOWN_SAMPLE_RATE)\n",
    "env = DummyVecEnv([lambda: env])\n",
    "env = VecFrameStack(env, 4, channels_order='last')"
   ]
  },
  {
   "cell_type": "code",
   "execution_count": null,
   "id": "a4c2b61e",
   "metadata": {},
   "outputs": [],
   "source": [
    "class TrainAndLoggingCallback(BaseCallback):\n",
    "    def __init__(self, check_freq, save_path, verbose=1):\n",
    "        super(TrainAndLoggingCallback, self).__init__(verbose)\n",
    "        self.check_freq = check_freq\n",
    "        self.save_path = save_path\n",
    "\n",
    "    def _init_callback(self):\n",
    "        if self.save_path is not None:\n",
    "            os.makedirs(self.save_path, exist_ok=True)\n",
    "\n",
    "    def _on_step(self):\n",
    "        if self.n_calls % self.check_freq == 0:\n",
    "            model_path = os.path.join(self.save_path, 'best_model_{}'.format(self.n_calls))\n",
    "            self.model.save(model_path)\n",
    "\n",
    "            total_reward = [0] * EPISODE_NUMBERS\n",
    "            total_time = [0] * EPISODE_NUMBERS\n",
    "            best_reward = 0\n",
    "\n",
    "            for i in range(EPISODE_NUMBERS):\n",
    "                state = env.reset()  # reset for each new trial\n",
    "                done = False\n",
    "                total_reward[i] = 0\n",
    "                total_time[i] = 0\n",
    "                while not done and total_time[i] < 10000:\n",
    "                    action, _ = model.predict(state)\n",
    "                    state, reward, done, info = env.step(action)\n",
    "                    total_reward[i] += reward[0]\n",
    "                    total_time[i] += 1\n",
    "\n",
    "                if total_reward[i] > best_reward:\n",
    "                    best_reward = total_reward[i]\n",
    "                    best_epoch = self.n_calls\n",
    "\n",
    "                state = env.reset()  # reset for each new trial\n",
    "\n",
    "            print('time steps:', self.n_calls, '/', TOTAL_TIMESTEP_NUMB)\n",
    "            print('average reward:', (sum(total_reward) / EPISODE_NUMBERS),\n",
    "                  'average time:', (sum(total_time) / EPISODE_NUMBERS),\n",
    "                  'best_reward:', best_reward)\n",
    "\n",
    "            with open(REWARD_LOG_FILENAME, 'a') as f:\n",
    "                print(self.n_calls, ',', sum(total_reward) / EPISODE_NUMBERS, file=f)\n",
    "\n",
    "        return True"
   ]
  },
  {
   "cell_type": "code",
   "execution_count": null,
   "id": "53875881",
   "metadata": {},
   "outputs": [],
   "source": [
    "# Setup model saving callback\n",
    "callback = TrainAndLoggingCallback(check_freq=CHECK_FREQ_NUMB, save_path=CHECKPOINT_DIR)\n",
    "# This is the AI model started\n",
    "model = PPO('CnnPolicy', env, verbose=0, tensorboard_log=LOG_DIR, learning_rate=LEARNING_RATE, n_steps=N_STEPS,\n",
    "            batch_size=BATCH_SIZE, n_epochs=N_EPOCHS, gamma=GAMMA)"
   ]
  },
  {
   "cell_type": "code",
   "execution_count": null,
   "id": "09ed7669",
   "metadata": {},
   "outputs": [],
   "source": []
  },
  {
   "cell_type": "code",
   "execution_count": null,
   "id": "89730438",
   "metadata": {
    "scrolled": false
   },
   "outputs": [],
   "source": [
    "%%time\n",
    "model.learn(total_timesteps=TOTAL_TIMESTEP_NUMB, callback=callback)"
   ]
  },
  {
   "cell_type": "code",
   "execution_count": null,
   "id": "abe901a5",
   "metadata": {},
   "outputs": [],
   "source": [
    "reward_log = pd.read_csv(\"reward_log.csv\", index_col='timesteps')\n",
    "reward_log.plot()"
   ]
  },
  {
   "cell_type": "code",
   "execution_count": null,
   "id": "fb6feeab",
   "metadata": {},
   "outputs": [],
   "source": [
    "best_epoch = 2010000    \n",
    "print('best epoch:', best_epoch)\n",
    "best_model_path = os.path.join(CHECKPOINT_DIR, 'best_model_{}'.format(best_epoch))\n",
    "model = PPO.load(best_model_path)"
   ]
  },
  {
   "cell_type": "code",
   "execution_count": null,
   "id": "bd77c4cf",
   "metadata": {},
   "outputs": [],
   "source": [
    "total_reward = [0] * EPISODE_NUMBERS\n",
    "total_time = [0] * EPISODE_NUMBERS\n",
    "best_reward = 0\n",
    "frames_best = []\n",
    "\n",
    "for i in range(EPISODE_NUMBERS):\n",
    "    state = env.reset()  # reset for each new trial\n",
    "    done = False\n",
    "    total_reward[i] = 0\n",
    "    total_time[i] = 0\n",
    "    frames = []\n",
    "    while not done and total_time[i] < 8000:\n",
    "        action, _ = model.predict(state)\n",
    "        state, reward, done, info = env.step(action)\n",
    "        total_reward[i] += reward[0]\n",
    "        total_time[i] += 1\n",
    "        frames.append(copy.deepcopy(env.render(mode='rgb_array')))\n",
    "\n",
    "    if total_reward[i] > best_reward:\n",
    "        best_reward = total_reward[i]\n",
    "        frames_best = copy.deepcopy(frames)\n",
    "\n",
    "    print('test episode:', i, 'reward:', total_reward[i], 'time:', total_time[i])\n",
    "\n",
    "print('average reward:', (sum(total_reward) / EPISODE_NUMBERS),\n",
    "      'average time:', (sum(total_time) / EPISODE_NUMBERS),\n",
    "      'best_reward:', best_reward)"
   ]
  },
  {
   "cell_type": "code",
   "execution_count": null,
   "id": "b9714ac6",
   "metadata": {
    "scrolled": true
   },
   "outputs": [],
   "source": [
    "import matplotlib.animation as animation\n",
    "\n",
    "\n",
    "frames_new = np.array(frames_best)\n",
    "matplotlib.rcParams['animation.embed_limit'] = 2**128\n",
    "plt.figure(figsize=(frames[0].shape[1] / 72.0, frames[0].shape[0] / 72.0), dpi = 72)\n",
    "patch = plt.imshow(frames_new[0])\n",
    "plt.axis('off')\n",
    "animate = lambda i: patch.set_data(frames_new[i])\n",
    "ani = matplotlib.animation.FuncAnimation(plt.gcf(), animate, frames=len(frames_new), interval = 50, save_count=5000)\n",
    "\n",
    "display(HTML(ani.to_jshtml()))\n",
    "plt.close()"
   ]
  },
  {
   "cell_type": "code",
   "execution_count": null,
   "id": "d0cad851",
   "metadata": {},
   "outputs": [],
   "source": []
  },
  {
   "cell_type": "code",
   "execution_count": null,
   "id": "9a7e2730",
   "metadata": {},
   "outputs": [],
   "source": []
  }
 ],
 "metadata": {
  "kernelspec": {
   "display_name": "Python 3 (ipykernel)",
   "language": "python",
   "name": "python3"
  },
  "language_info": {
   "codemirror_mode": {
    "name": "ipython",
    "version": 3
   },
   "file_extension": ".py",
   "mimetype": "text/x-python",
   "name": "python",
   "nbconvert_exporter": "python",
   "pygments_lexer": "ipython3",
   "version": "3.9.12"
  }
 },
 "nbformat": 4,
 "nbformat_minor": 5
}
